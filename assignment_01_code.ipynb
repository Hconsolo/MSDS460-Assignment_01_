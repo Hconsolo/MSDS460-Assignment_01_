{
 "cells": [
  {
   "cell_type": "code",
   "execution_count": 1,
   "metadata": {},
   "outputs": [
    {
     "name": "stdout",
     "output_type": "stream",
     "text": [
      "C:\\Users\\HHolanda\\OneDrive - KraftHeinz\\MSDS 460\n"
     ]
    }
   ],
   "source": [
    "# import the required libraries\n",
    "import pandas as pd \n",
    "\n",
    "from pulp import LpProblem, LpMinimize, LpVariable, lpSum \n",
    "\n",
    "import matplotlib.pyplot as plt\n",
    "\n",
    "import os\n",
    "\n",
    "# move working directory to the folder 'C:\\Users\\HHolanda\\OneDrive - KraftHeinz\\MSDS 460'\n",
    "os.chdir('C:\\\\Users\\\\HHolanda\\\\OneDrive - KraftHeinz\\\\MSDS 460')\n",
    "\n",
    "# print the current working directory\n",
    "print(os.getcwd())"
   ]
  },
  {
   "cell_type": "code",
   "execution_count": 127,
   "metadata": {},
   "outputs": [
    {
     "name": "stdout",
     "output_type": "stream",
     "text": [
      "Chicken_Rice_and_Broccolis = 0.0\n",
      "Scrambled_Eggs_Recipe = 6.5789474\n",
      "Thai_Pad_Frozen_Meal = 0.0\n",
      "Yogurt_and_banana = 8.527133\n"
     ]
    }
   ],
   "source": [
    "# Create a sample DataFrame with food items, prices, and nutrient values \n",
    "\n",
    "data = { 'Food Item': ['Kraft Mac & Cheese', 'Thai Pad Frozen Meal', 'Scrambled Eggs Recipe'\n",
    "                        ,'Chicken Rice and Broccolis','Yogurt and banana']\n",
    "        ,'Price ($)': [1.39/3, 4.99, 0.82, 7, 3]\n",
    "        ,'Sodium (mg)': [560, 760, 200, 200,200]\n",
    "        ,'Energy (calories)': [250, 410, 365, 330, 210]\n",
    "        ,'Protein (g)': [9, 40, 24.4, 31,14]\n",
    "        ,'Vitamin D (mcg)': [0, 0, 3.04, 0,0]\n",
    "        ,'Calcium (mg)': [110, 90, 156, 61,487]\n",
    "        ,'Iron (mg)': [2.5, 3.9 , 2.7, 5.7,0.22]\n",
    "        ,'Potassium (mg)': [330, 360, 304,488,625]\n",
    "        }\n",
    "\n",
    "df = pd.DataFrame(data) \n",
    "\n",
    "# Define the linear programming problem \n",
    "\n",
    "model = LpProblem(name=\"Food_Optimization\", sense=LpMinimize) \n",
    "\n",
    "# Create decision variables for each food item \n",
    "\n",
    "food_vars = [LpVariable(name=f\"{row['Food Item']}\", lowBound=0, cat='Continuous')\\\n",
    "              for index, row in df.iterrows()\n",
    "              ] \n",
    "\n",
    "# Add objective function to minimize the cost\n",
    "model += lpSum(df.loc[i, 'Price ($)'] * food_vars[i] for i in range(len(df)))\n",
    "\n",
    "# Add constraints and give names to the constraints\n",
    "model += lpSum(df.loc[i, 'Sodium (mg)'] * food_vars[i] for i in range(len(df))) <= 5000, 'Sodium (mg)'\n",
    "model += lpSum(df.loc[i, 'Energy (calories)'] * food_vars[i] for i in range(len(df))) >= 2000, 'Energy (calories) min'\n",
    "model += lpSum(df.loc[i, 'Energy (calories)'] * food_vars[i] for i in range(len(df))) <= 2200, 'Energy (calories) max'\n",
    "model += lpSum(df.loc[i, 'Protein (g)'] * food_vars[i] for i in range(len(df))) >= 50, 'Protein (g)'\n",
    "model += lpSum(df.loc[i, 'Vitamin D (mcg)'] * food_vars[i] for i in range(len(df))) >= 20, 'Vitamin D (mcg)'\n",
    "model += lpSum(df.loc[i, 'Calcium (mg)'] * food_vars[i] for i in range(len(df))) >= 1300, 'Calcium (mg)'\n",
    "model += lpSum(df.loc[i, 'Iron (mg)'] * food_vars[i] for i in range(len(df))) >= 18, 'Iron (mg)'\n",
    "model += lpSum(df.loc[i, 'Potassium (mg)'] * food_vars[i] for i in range(len(df))) >= 4700, 'Potassium (mg)'\n",
    "\n",
    "\n",
    "# Solve the optimization problem using simplex method\n",
    "model.solve()\n",
    "\n",
    "# Display the optimal food items and their quantities \n",
    "for var in model.variables():\n",
    "    if var.varValue >= 0 :\n",
    "        print(f\"{var.name} = {var.varValue}\")"
   ]
  },
  {
   "cell_type": "code",
   "execution_count": 129,
   "metadata": {},
   "outputs": [
    {
     "name": "stdout",
     "output_type": "stream",
     "text": [
      "Food_Optimization:\n",
      "MINIMIZE\n",
      "7.0*Chicken_Rice_and_Broccolis + 0.4633333333333333*Kraft_Mac_&_Cheese + 0.82*Scrambled_Eggs_Recipe + 4.99*Thai_Pad_Frozen_Meal + 3.0*Yogurt_and_banana + 0.0\n",
      "SUBJECT TO\n",
      "Sodium_(mg): 200 Chicken_Rice_and_Broccolis + 560 Kraft_Mac_&_Cheese\n",
      " + 200 Scrambled_Eggs_Recipe + 760 Thai_Pad_Frozen_Meal\n",
      " + 200 Yogurt_and_banana <= 5000\n",
      "\n",
      "Energy_(calories)_min: 330 Chicken_Rice_and_Broccolis + 250 Kraft_Mac_&_Cheese\n",
      " + 365 Scrambled_Eggs_Recipe + 410 Thai_Pad_Frozen_Meal\n",
      " + 210 Yogurt_and_banana >= 2000\n",
      "\n",
      "Energy_(calories)_max: 330 Chicken_Rice_and_Broccolis + 250 Kraft_Mac_&_Cheese\n",
      " + 365 Scrambled_Eggs_Recipe + 410 Thai_Pad_Frozen_Meal\n",
      " + 210 Yogurt_and_banana <= 2200\n",
      "\n",
      "Protein_(g): 31 Chicken_Rice_and_Broccolis + 9 Kraft_Mac_&_Cheese\n",
      " + 24.4 Scrambled_Eggs_Recipe + 40 Thai_Pad_Frozen_Meal + 14 Yogurt_and_banana\n",
      " >= 50\n",
      "\n",
      "Vitamin_D_(mcg): 3.04 Scrambled_Eggs_Recipe >= 20\n",
      "\n",
      "Calcium_(mg): 61 Chicken_Rice_and_Broccolis + 110 Kraft_Mac_&_Cheese\n",
      " + 156 Scrambled_Eggs_Recipe + 90 Thai_Pad_Frozen_Meal + 487 Yogurt_and_banana\n",
      " >= 1300\n",
      "\n",
      "Iron_(mg): 5.7 Chicken_Rice_and_Broccolis + 2.5 Kraft_Mac_&_Cheese\n",
      " + 2.7 Scrambled_Eggs_Recipe + 3.9 Thai_Pad_Frozen_Meal\n",
      " + 0.22 Yogurt_and_banana >= 18\n",
      "\n",
      "Potassium_(mg): 488 Chicken_Rice_and_Broccolis + 330 Kraft_Mac_&_Cheese\n",
      " + 304 Scrambled_Eggs_Recipe + 360 Thai_Pad_Frozen_Meal\n",
      " + 625 Yogurt_and_banana >= 4700\n",
      "\n",
      "VARIABLES\n",
      "Chicken_Rice_and_Broccolis Continuous\n",
      "Kraft_Mac_&_Cheese Continuous\n",
      "Scrambled_Eggs_Recipe Continuous\n",
      "Thai_Pad_Frozen_Meal Continuous\n",
      "Yogurt_and_banana Continuous\n",
      "\n"
     ]
    }
   ],
   "source": [
    "# display the model\n",
    "print(model)"
   ]
  },
  {
   "cell_type": "code",
   "execution_count": 131,
   "metadata": {},
   "outputs": [
    {
     "name": "stdout",
     "output_type": "stream",
     "text": [
      "Total Cost = 27.28427047733333\n"
     ]
    },
    {
     "data": {
      "image/png": "[encoded data removed]",
      "text/plain": [
       "<Figure size 1000x600 with 1 Axes>"
      ]
     },
     "metadata": {},
     "output_type": "display_data"
    }
   ],
   "source": [
    "# Display the optimal cost\n",
    "print(f\"Total Cost = {model.objective.value()}\")\n",
    "\n",
    "# Plot the optimal food items and their servings\n",
    "plt.figure(figsize=(10, 6))\n",
    "plt.bar([var.name for var in model.variables() if var.varValue > 0], [var.varValue for var in model.variables() if var.varValue > 0])\n",
    "plt.xlabel('Food Items')\n",
    "plt.ylabel('Servings')\n",
    "plt.title('Optimal Food Items and Their Servings')\n",
    "plt.show()"
   ]
  },
  {
   "cell_type": "code",
   "execution_count": 132,
   "metadata": {},
   "outputs": [
    {
     "name": "stdout",
     "output_type": "stream",
     "text": [
      "                    Food Item  Price ($)  Sodium (mg)  Energy (calories)  \\\n",
      "0        Thai_Pad_Frozen_Meal       4.99          760                410   \n",
      "1       Scrambled_Eggs_Recipe       0.82          200                365   \n",
      "2  Chicken_Rice_and_Broccolis       7.00          200                330   \n",
      "3           Yogurt_and_banana       3.00          200                210   \n",
      "\n",
      "   Protein (g)  Vitamin D (mcg)  Calcium (mg)  Iron (mg)  Potassium (mg)  \\\n",
      "0         40.0             0.00            90       3.90             360   \n",
      "1         24.4             3.04           156       2.70             304   \n",
      "2         31.0             0.00            61       5.70             488   \n",
      "3         14.0             0.00           487       0.22             625   \n",
      "\n",
      "   Servings  \n",
      "0  0.000000  \n",
      "1  6.578947  \n",
      "2  0.000000  \n",
      "3  8.527133  \n"
     ]
    }
   ],
   "source": [
    "# create dictionary to store the optimal food items and their servings\n",
    "optimal_food_items = {}\n",
    "for var in model.variables():\n",
    "    if var.varValue >= 0 :\n",
    "        optimal_food_items[var.name] = var.varValue\n",
    "\n",
    "# create a DataFrame to store the optimal food items and their servings\n",
    "optimal_food_items_df = pd.DataFrame(optimal_food_items.items(), columns=['Food Item', 'Servings'])\n",
    "\n",
    "# replace spaces in the 'Food Item' column with underscores\n",
    "df['Food Item'] = df['Food Item'].str.replace(' ', '_')\n",
    "\n",
    "# merge the df and optimal_food_items_df dataframes\n",
    "merged_df = pd.merge(df, optimal_food_items_df, on='Food Item')\n",
    "\n",
    "# display the merged_df dataframe\n",
    "print(merged_df)\n",
    "\n"
   ]
  },
  {
   "cell_type": "code",
   "execution_count": 133,
   "metadata": {},
   "outputs": [
    {
     "name": "stdout",
     "output_type": "stream",
     "text": [
      "Sodium (mg): 3021.2160799999997\n",
      "Energy (calories): 4192.013730999999\n",
      "Protein (g): 279.90617855999994\n",
      "Vitamin D (mcg): 20.000000096\n",
      "Calcium (mg): 5179.0295654\n",
      "Iron (mg): 19.63912724\n",
      "Potassium (mg): 7329.4581345999995\n"
     ]
    }
   ],
   "source": [
    "# calculate the nutrient values for the optimal food items\n",
    "sodium = sum(merged_df['Sodium (mg)'] * merged_df['Servings'])\n",
    "energy = sum(merged_df['Energy (calories)'] * merged_df['Servings'])\n",
    "protein = sum(merged_df['Protein (g)'] * merged_df['Servings'])\n",
    "vitamin_d = sum(merged_df['Vitamin D (mcg)'] * merged_df['Servings'])\n",
    "calcium = sum(merged_df['Calcium (mg)'] * merged_df['Servings'])\n",
    "iron = sum(merged_df['Iron (mg)'] * merged_df['Servings'])\n",
    "potassium = sum(merged_df['Potassium (mg)'] * merged_df['Servings'])\n",
    "\n",
    "# display the nutrient values for the optimal food items\n",
    "print(f\"Sodium (mg): {sodium}\")\n",
    "print(f\"Energy (calories): {energy}\")\n",
    "print(f\"Protein (g): {protein}\")\n",
    "print(f\"Vitamin D (mcg): {vitamin_d}\")\n",
    "print(f\"Calcium (mg): {calcium}\")\n",
    "print(f\"Iron (mg): {iron}\")\n",
    "print(f\"Potassium (mg): {potassium}\")\n",
    "\n",
    "# create a dictionary to store the nutrient values for the optimal food items\n",
    "nutrient_values = {'Sodium (mg)': sodium\n",
    "                   ,'Energy (calories)': energy\n",
    "                   ,'Protein (g)': protein\n",
    "                   ,'Vitamin D (mcg)': vitamin_d\n",
    "                   ,'Calcium (mg)': calcium\n",
    "                   ,'Iron (mg)': iron\n",
    "                   ,'Potassium (mg)': potassium\n",
    "                   }\n"
   ]
  },
  {
   "cell_type": "code",
   "execution_count": 64,
   "metadata": {},
   "outputs": [
    {
     "ename": "PermissionError",
     "evalue": "[Errno 13] Permission denied: 'food_optimization_solution.xlsx'",
     "output_type": "error",
     "traceback": [
      "\u001b[1;31m---------------------------------------------------------------------------\u001b[0m",
      "\u001b[1;31mPermissionError\u001b[0m                           Traceback (most recent call last)",
      "Cell \u001b[1;32mIn[64], line 9\u001b[0m\n\u001b[0;32m      6\u001b[0m optimal_nutrients_df \u001b[38;5;241m=\u001b[39m pd\u001b[38;5;241m.\u001b[39mDataFrame(optimal_nutrients, index\u001b[38;5;241m=\u001b[39m[\u001b[38;5;241m0\u001b[39m])\n\u001b[0;32m      8\u001b[0m \u001b[38;5;66;03m# Save the solution and optimal nutrient values to Excel\u001b[39;00m\n\u001b[1;32m----> 9\u001b[0m \u001b[38;5;28;01mwith\u001b[39;00m \u001b[43mpd\u001b[49m\u001b[38;5;241;43m.\u001b[39;49m\u001b[43mExcelWriter\u001b[49m\u001b[43m(\u001b[49m\u001b[38;5;124;43m'\u001b[39;49m\u001b[38;5;124;43mfood_optimization_solution.xlsx\u001b[39;49m\u001b[38;5;124;43m'\u001b[39;49m\u001b[43m)\u001b[49m \u001b[38;5;28;01mas\u001b[39;00m writer:\n\u001b[0;32m     10\u001b[0m     solution_df\u001b[38;5;241m.\u001b[39mto_excel(writer, sheet_name\u001b[38;5;241m=\u001b[39m\u001b[38;5;124m'\u001b[39m\u001b[38;5;124mSolution\u001b[39m\u001b[38;5;124m'\u001b[39m, index\u001b[38;5;241m=\u001b[39m\u001b[38;5;28;01mFalse\u001b[39;00m)\n\u001b[0;32m     11\u001b[0m     optimal_nutrients_df\u001b[38;5;241m.\u001b[39mto_excel(writer, sheet_name\u001b[38;5;241m=\u001b[39m\u001b[38;5;124m'\u001b[39m\u001b[38;5;124mOptimal Nutrient Values\u001b[39m\u001b[38;5;124m'\u001b[39m, index\u001b[38;5;241m=\u001b[39m\u001b[38;5;28;01mFalse\u001b[39;00m)\n",
      "File \u001b[1;32m~\\AppData\\Roaming\\Python\\Python39\\site-packages\\pandas\\io\\excel\\_openpyxl.py:61\u001b[0m, in \u001b[0;36mOpenpyxlWriter.__init__\u001b[1;34m(self, path, engine, date_format, datetime_format, mode, storage_options, if_sheet_exists, engine_kwargs, **kwargs)\u001b[0m\n\u001b[0;32m     57\u001b[0m \u001b[38;5;28;01mfrom\u001b[39;00m \u001b[38;5;21;01mopenpyxl\u001b[39;00m\u001b[38;5;21;01m.\u001b[39;00m\u001b[38;5;21;01mworkbook\u001b[39;00m \u001b[38;5;28;01mimport\u001b[39;00m Workbook\n\u001b[0;32m     59\u001b[0m engine_kwargs \u001b[38;5;241m=\u001b[39m combine_kwargs(engine_kwargs, kwargs)\n\u001b[1;32m---> 61\u001b[0m \u001b[38;5;28;43msuper\u001b[39;49m\u001b[43m(\u001b[49m\u001b[43m)\u001b[49m\u001b[38;5;241;43m.\u001b[39;49m\u001b[38;5;21;43m__init__\u001b[39;49m\u001b[43m(\u001b[49m\n\u001b[0;32m     62\u001b[0m \u001b[43m    \u001b[49m\u001b[43mpath\u001b[49m\u001b[43m,\u001b[49m\n\u001b[0;32m     63\u001b[0m \u001b[43m    \u001b[49m\u001b[43mmode\u001b[49m\u001b[38;5;241;43m=\u001b[39;49m\u001b[43mmode\u001b[49m\u001b[43m,\u001b[49m\n\u001b[0;32m     64\u001b[0m \u001b[43m    \u001b[49m\u001b[43mstorage_options\u001b[49m\u001b[38;5;241;43m=\u001b[39;49m\u001b[43mstorage_options\u001b[49m\u001b[43m,\u001b[49m\n\u001b[0;32m     65\u001b[0m \u001b[43m    \u001b[49m\u001b[43mif_sheet_exists\u001b[49m\u001b[38;5;241;43m=\u001b[39;49m\u001b[43mif_sheet_exists\u001b[49m\u001b[43m,\u001b[49m\n\u001b[0;32m     66\u001b[0m \u001b[43m    \u001b[49m\u001b[43mengine_kwargs\u001b[49m\u001b[38;5;241;43m=\u001b[39;49m\u001b[43mengine_kwargs\u001b[49m\u001b[43m,\u001b[49m\n\u001b[0;32m     67\u001b[0m \u001b[43m\u001b[49m\u001b[43m)\u001b[49m\n\u001b[0;32m     69\u001b[0m \u001b[38;5;66;03m# ExcelWriter replaced \"a\" by \"r+\" to allow us to first read the excel file from\u001b[39;00m\n\u001b[0;32m     70\u001b[0m \u001b[38;5;66;03m# the file and later write to it\u001b[39;00m\n\u001b[0;32m     71\u001b[0m \u001b[38;5;28;01mif\u001b[39;00m \u001b[38;5;124m\"\u001b[39m\u001b[38;5;124mr+\u001b[39m\u001b[38;5;124m\"\u001b[39m \u001b[38;5;129;01min\u001b[39;00m \u001b[38;5;28mself\u001b[39m\u001b[38;5;241m.\u001b[39m_mode:  \u001b[38;5;66;03m# Load from existing workbook\u001b[39;00m\n",
      "File \u001b[1;32m~\\AppData\\Roaming\\Python\\Python39\\site-packages\\pandas\\io\\excel\\_base.py:1263\u001b[0m, in \u001b[0;36mExcelWriter.__init__\u001b[1;34m(self, path, engine, date_format, datetime_format, mode, storage_options, if_sheet_exists, engine_kwargs)\u001b[0m\n\u001b[0;32m   1259\u001b[0m \u001b[38;5;28mself\u001b[39m\u001b[38;5;241m.\u001b[39m_handles \u001b[38;5;241m=\u001b[39m IOHandles(\n\u001b[0;32m   1260\u001b[0m     cast(IO[\u001b[38;5;28mbytes\u001b[39m], path), compression\u001b[38;5;241m=\u001b[39m{\u001b[38;5;124m\"\u001b[39m\u001b[38;5;124mcompression\u001b[39m\u001b[38;5;124m\"\u001b[39m: \u001b[38;5;28;01mNone\u001b[39;00m}\n\u001b[0;32m   1261\u001b[0m )\n\u001b[0;32m   1262\u001b[0m \u001b[38;5;28;01mif\u001b[39;00m \u001b[38;5;129;01mnot\u001b[39;00m \u001b[38;5;28misinstance\u001b[39m(path, ExcelWriter):\n\u001b[1;32m-> 1263\u001b[0m     \u001b[38;5;28mself\u001b[39m\u001b[38;5;241m.\u001b[39m_handles \u001b[38;5;241m=\u001b[39m \u001b[43mget_handle\u001b[49m\u001b[43m(\u001b[49m\n\u001b[0;32m   1264\u001b[0m \u001b[43m        \u001b[49m\u001b[43mpath\u001b[49m\u001b[43m,\u001b[49m\u001b[43m \u001b[49m\u001b[43mmode\u001b[49m\u001b[43m,\u001b[49m\u001b[43m \u001b[49m\u001b[43mstorage_options\u001b[49m\u001b[38;5;241;43m=\u001b[39;49m\u001b[43mstorage_options\u001b[49m\u001b[43m,\u001b[49m\u001b[43m \u001b[49m\u001b[43mis_text\u001b[49m\u001b[38;5;241;43m=\u001b[39;49m\u001b[38;5;28;43;01mFalse\u001b[39;49;00m\n\u001b[0;32m   1265\u001b[0m \u001b[43m    \u001b[49m\u001b[43m)\u001b[49m\n\u001b[0;32m   1266\u001b[0m \u001b[38;5;28mself\u001b[39m\u001b[38;5;241m.\u001b[39m_cur_sheet \u001b[38;5;241m=\u001b[39m \u001b[38;5;28;01mNone\u001b[39;00m\n\u001b[0;32m   1268\u001b[0m \u001b[38;5;28;01mif\u001b[39;00m date_format \u001b[38;5;129;01mis\u001b[39;00m \u001b[38;5;28;01mNone\u001b[39;00m:\n",
      "File \u001b[1;32m~\\AppData\\Roaming\\Python\\Python39\\site-packages\\pandas\\io\\common.py:872\u001b[0m, in \u001b[0;36mget_handle\u001b[1;34m(path_or_buf, mode, encoding, compression, memory_map, is_text, errors, storage_options)\u001b[0m\n\u001b[0;32m    863\u001b[0m         handle \u001b[38;5;241m=\u001b[39m \u001b[38;5;28mopen\u001b[39m(\n\u001b[0;32m    864\u001b[0m             handle,\n\u001b[0;32m    865\u001b[0m             ioargs\u001b[38;5;241m.\u001b[39mmode,\n\u001b[1;32m   (...)\u001b[0m\n\u001b[0;32m    868\u001b[0m             newline\u001b[38;5;241m=\u001b[39m\u001b[38;5;124m\"\u001b[39m\u001b[38;5;124m\"\u001b[39m,\n\u001b[0;32m    869\u001b[0m         )\n\u001b[0;32m    870\u001b[0m     \u001b[38;5;28;01melse\u001b[39;00m:\n\u001b[0;32m    871\u001b[0m         \u001b[38;5;66;03m# Binary mode\u001b[39;00m\n\u001b[1;32m--> 872\u001b[0m         handle \u001b[38;5;241m=\u001b[39m \u001b[38;5;28;43mopen\u001b[39;49m\u001b[43m(\u001b[49m\u001b[43mhandle\u001b[49m\u001b[43m,\u001b[49m\u001b[43m \u001b[49m\u001b[43mioargs\u001b[49m\u001b[38;5;241;43m.\u001b[39;49m\u001b[43mmode\u001b[49m\u001b[43m)\u001b[49m\n\u001b[0;32m    873\u001b[0m     handles\u001b[38;5;241m.\u001b[39mappend(handle)\n\u001b[0;32m    875\u001b[0m \u001b[38;5;66;03m# Convert BytesIO or file objects passed with an encoding\u001b[39;00m\n",
      "\u001b[1;31mPermissionError\u001b[0m: [Errno 13] Permission denied: 'food_optimization_solution.xlsx'"
     ]
    }
   ],
   "source": [
    "# Save the solution in a DataFrame\n",
    "solution_data = {'Food Item': [var.name for var in food_vars], 'Servings': [var.varValue for var in food_vars]}\n",
    "solution_df = pd.DataFrame(solution_data)\n",
    "\n",
    "# save the optimal nutrient values in another DataFrame\n",
    "optimal_nutrients_df = pd.DataFrame(optimal_nutrients, index=[0])\n",
    "\n",
    "# Save the solution and optimal nutrient values to Excel\n",
    "with pd.ExcelWriter('food_optimization_solution.xlsx') as writer:\n",
    "    solution_df.to_excel(writer, sheet_name='Solution', index=False)\n",
    "    optimal_nutrients_df.to_excel(writer, sheet_name='Optimal Nutrient Values', index=False)"
   ]
  }
 ],
 "metadata": {
  "kernelspec": {
   "display_name": "Python 3",
   "language": "python",
   "name": "python3"
  },
  "language_info": {
   "codemirror_mode": {
    "name": "ipython",
    "version": 3
   },
   "file_extension": ".py",
   "mimetype": "text/x-python",
   "name": "python",
   "nbconvert_exporter": "python",
   "pygments_lexer": "ipython3",
   "version": "3.9.7"
  }
 },
 "nbformat": 4,
 "nbformat_minor": 2
}
